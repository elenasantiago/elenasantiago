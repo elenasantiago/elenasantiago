{
 "cells": [
  {
   "cell_type": "code",
   "execution_count": 11,
   "metadata": {},
   "outputs": [
    {
     "name": "stdout",
     "output_type": "stream",
     "text": [
      "2\n",
      "9\n",
      "1\n",
      "4\n",
      "1\n",
      "7\n",
      "7\n",
      "7\n",
      "10\n",
      "6\n"
     ]
    }
   ],
   "source": [
    "# store a random number (1-10) in a variable\n",
    "# generate random integer values\n",
    "from random import seed\n",
    "from random import randint\n",
    "# seed random number generator\n",
    "seed(1)\n",
    "# generate some integers\n",
    "for _ in range(10):\n",
    "\tvalue = randint(0, 10)\n",
    "\tprint(value)\n",
    " "
   ]
  },
  {
   "cell_type": "code",
   "execution_count": 13,
   "metadata": {},
   "outputs": [
    {
     "name": "stdout",
     "output_type": "stream",
     "text": [
      "Elena\n"
     ]
    }
   ],
   "source": [
    "#Ask the user for their name and store this as a variable\n",
    "user_name=(\"Elena\")\n",
    "print(user_name)\n"
   ]
  },
  {
   "cell_type": "code",
   "execution_count": 1,
   "metadata": {},
   "outputs": [
    {
     "name": "stdout",
     "output_type": "stream",
     "text": [
      "nope, sorry. try again!\n",
      "nope, sorry. try again!\n",
      "nope, sorry. try again!\n",
      "nope, sorry. try again!\n",
      "nope, sorry. try again!\n",
      "nope, sorry. try again!\n",
      "nope, sorry. try again!\n",
      "nope, sorry. try again!\n",
      "congratulations! you won!\n"
     ]
    }
   ],
   "source": [
    "#Ask a user to guess the number between 1 to 10\n",
    "#tell the user whether they have guessed correctly\n",
    "import random\n",
    "\n",
    "num = random.randint(1, 10)\n",
    "guess = None\n",
    "\n",
    "while guess != num:\n",
    "    guess = input(\"guess a number between 1 and 10: \")\n",
    "    guess = int(guess)\n",
    "\n",
    "    if guess == num:\n",
    "        print(\"congratulations! you won!\")\n",
    "        break\n",
    "    else:\n",
    "        print(\"nope, sorry. try again!\")\n",
    "        \n",
    "        "
   ]
  },
  {
   "cell_type": "code",
   "execution_count": 29,
   "metadata": {},
   "outputs": [
    {
     "name": "stdout",
     "output_type": "stream",
     "text": [
      "Guess a number between 1 to 100\n",
      "How do you throw a space party? You planet!\n",
      "Have fun\n",
      "Guess a number between 1 to 100\n",
      "How do you throw a space party? You planet!\n",
      "Have fun\n",
      "Guess a number between 1 to 100\n",
      "How do you throw a space party? You planet!\n",
      "Have fun\n",
      "Guess a number between 1 to 100\n",
      "How do you throw a space party? You planet!\n",
      "Have fun\n",
      "Guess a number between 1 to 100\n",
      "How do you throw a space party? You planet!\n",
      "Have fun\n",
      "Guess a number between 1 to 100\n"
     ]
    }
   ],
   "source": [
    "#write a program that ask a user for their favorite number between 1 to 100\n",
    "# and then tells them a joke based on the number. You should use a minimum of 3 jokes.\n",
    "import random\n",
    "num = random.randint(1,100)\n",
    "while True:\n",
    "    print('Guess a number between 1 to 100')\n",
    "    guess = input()\n",
    "    i = 50\n",
    "    if i == num:\n",
    "        print('What is sticky and brown? A stick!')\n",
    "        break\n",
    "    if i < num:\n",
    "        print('How does a rabbi make coffee? Hebrews it!')\n",
    "        break\n",
    "    if i > num:\n",
    "        print ('How do you throw a space party? You planet!')\n",
    "        print('Have fun')\n",
    "        \n",
    "    "
   ]
  },
  {
   "cell_type": "code",
   "execution_count": 17,
   "metadata": {},
   "outputs": [
    {
     "name": "stdout",
     "output_type": "stream",
     "text": [
      "my favourity food is salad, cripy duck pancake rolls, tiramisu and red wine\n"
     ]
    }
   ],
   "source": [
    "#write a program that allows user to enter their favourite starter, main course, desert and drink.\n",
    "#concatenate these and output a message which says - \"your favourite meal is.... whith a glass of\"\n",
    "print(\"my favourity food is\", \"salad, \" \"cripy duck pancake rolls, \" \"tiramisu \" \"and red wine\")\n"
   ]
  },
  {
   "cell_type": "code",
   "execution_count": 18,
   "metadata": {},
   "outputs": [
    {
     "name": "stdout",
     "output_type": "stream",
     "text": [
      "£ 2000\n",
      "£ 1800.0\n",
      "£ 1620.0\n",
      "£ 1458.0\n",
      "£ 1312.2\n",
      "£ 1180.98\n",
      "£ 1062.882\n"
     ]
    }
   ],
   "source": [
    "#a motorbike cost £2000 and loses 10% of its value every year. Using a loop,\n",
    "# print the value of the bike every following year until it falls below £1000\n",
    "value = 2000\n",
    "while value >1000:\n",
    "    print(\"£\",value)\n",
    "    value = value * 0.9\n",
    "    "
   ]
  },
  {
   "cell_type": "code",
   "execution_count": 18,
   "metadata": {},
   "outputs": [
    {
     "name": "stdout",
     "output_type": "stream",
     "text": [
      "Enter which operation would you like to perform?\n",
      "2 - 2 : 0\n"
     ]
    }
   ],
   "source": [
    "#write a program which will ask for two numbers from a users.\n",
    "#Then offer a menu to the user giving them a choice of operator:\n",
    "#e.g.- Enter \"a\" if you want to add, \"b\" if you want to subtract\n",
    "#include +,-,/,*,** square (to the power of). Once the user has selected\n",
    "#which operator they wish to use, perform the calculation.\n",
    "num1 = int(input(\"Enter First Number: \"))\n",
    "num2 = int(input(\"Enter Second Number: \"))\n",
    "print(\"Enter which operation would you like to perform?\")\n",
    "ch = input(\"Enter any of these char for specific operation +,-,*,/: \")\n",
    "result = 0\n",
    "if ch == '+':\n",
    "        result = num1 + num2\n",
    "elif ch == \"-\":\n",
    "        result = num1 - num2\n",
    "elif ch == \"*\":\n",
    "        result = num1 * num2\n",
    "elif ch == '/':\n",
    "        result = num1 / num2\n",
    "else:\n",
    "    print(\"Input character is not recognized!\")\n",
    "print(num1, ch, num2, \":\", result)\n",
    "\n",
    "\n"
   ]
  }
 ],
 "metadata": {
  "interpreter": {
   "hash": "7ca6e391786843e1b84a86b64e7ea6c12ee785daa5690a7a5fae562659d7a36f"
  },
  "kernelspec": {
   "display_name": "Python 3.10.2 64-bit",
   "language": "python",
   "name": "python3"
  },
  "language_info": {
   "codemirror_mode": {
    "name": "ipython",
    "version": 3
   },
   "file_extension": ".py",
   "mimetype": "text/x-python",
   "name": "python",
   "nbconvert_exporter": "python",
   "pygments_lexer": "ipython3",
   "version": "3.10.2"
  },
  "orig_nbformat": 4
 },
 "nbformat": 4,
 "nbformat_minor": 2
}
