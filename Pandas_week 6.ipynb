{
 "cells": [
  {
   "cell_type": "code",
   "execution_count": null,
   "metadata": {},
   "outputs": [],
   "source": [
    "pip install pandas"
   ]
  },
  {
   "cell_type": "code",
   "execution_count": 21,
   "metadata": {},
   "outputs": [],
   "source": [
    "import pandas as pd"
   ]
  },
  {
   "cell_type": "code",
   "execution_count": 45,
   "metadata": {},
   "outputs": [
    {
     "name": "stdout",
     "output_type": "stream",
     "text": [
      "    Unnamed: 0      Places  Score  Avg hotel star rating  \\\n",
      "0            1     Vietnam     10                      5   \n",
      "1            2   Argentina     10                      3   \n",
      "2            3  New Zeland      7                      5   \n",
      "3            4       Japan      8                      5   \n",
      "4            5  Madagascar      6                      4   \n",
      "5            6    Colombia      5                      3   \n",
      "6            7      Brazil      9                      3   \n",
      "7            8       Egypt      4                      2   \n",
      "8            9        Peru      7                      2   \n",
      "9           10    Thailand      5                      4   \n",
      "10          11      Turkey      7                      3   \n",
      "11          12     Marroco      3                      2   \n",
      "12          13      Poland      2                      2   \n",
      "13          14     Argelia      2                      2   \n",
      "14          15     Hungary      8                      4   \n",
      "\n",
      "    All inclusive hotels Most visited city in each destination  \n",
      "0                     20                           Ho Chi Minh  \n",
      "1                     30                          Buenos Aires  \n",
      "2                     20                              Auckland  \n",
      "3                     18                                 Tokyo  \n",
      "4                     18                          Antananarivo  \n",
      "5                     15                                Bogota  \n",
      "6                     30                        Rio de Janeiro  \n",
      "7                     17                                 Cairo  \n",
      "8                     10                                  Lima  \n",
      "9                      8                               Bangkok  \n",
      "10                    13                              Istanbul  \n",
      "11                    10                             Marrakesh  \n",
      "12                    11                                Warsaw  \n",
      "13                    12                               Algiers  \n",
      "14                     9                              Budapest  \n"
     ]
    }
   ],
   "source": [
    "#read the csv file using pd.read_csv\n",
    "dataframe_travel = pd.read_csv(\"dataframe_travel.csv\")\n",
    "print (dataframe_travel)"
   ]
  },
  {
   "cell_type": "code",
   "execution_count": 46,
   "metadata": {},
   "outputs": [
    {
     "data": {
      "text/plain": [
       "(15, 6)"
      ]
     },
     "execution_count": 46,
     "metadata": {},
     "output_type": "execute_result"
    }
   ],
   "source": [
    "#How many rows and columns are there in your file?\n",
    "data = pd.read_csv(\"dataframe_travel.csv\")\n",
    "data.shape"
   ]
  },
  {
   "cell_type": "code",
   "execution_count": 47,
   "metadata": {},
   "outputs": [
    {
     "name": "stdout",
     "output_type": "stream",
     "text": [
      "   Unnamed: 0      Places  Score  Avg hotel star rating  All inclusive hotels  \\\n",
      "3           4       Japan      8                      5                    18   \n",
      "4           5  Madagascar      6                      4                    18   \n",
      "5           6    Colombia      5                      3                    15   \n",
      "6           7      Brazil      9                      3                    30   \n",
      "7           8       Egypt      4                      2                    17   \n",
      "8           9        Peru      7                      2                    10   \n",
      "\n",
      "  Most visited city in each destination  \n",
      "3                                 Tokyo  \n",
      "4                          Antananarivo  \n",
      "5                                Bogota  \n",
      "6                        Rio de Janeiro  \n",
      "7                                 Cairo  \n",
      "8                                  Lima  \n"
     ]
    }
   ],
   "source": [
    "#Print row 3-8 ( using iloc/loc).\n",
    "dataframe_travel = pd.read_csv(\"dataframe_travel.csv\")\n",
    "print(dataframe_travel[3:9])\n"
   ]
  },
  {
   "cell_type": "code",
   "execution_count": 48,
   "metadata": {},
   "outputs": [
    {
     "data": {
      "text/plain": [
       "16.066666666666666"
      ]
     },
     "execution_count": 48,
     "metadata": {},
     "output_type": "execute_result"
    }
   ],
   "source": [
    "#Find the mean number of all-inclusive hotels across all destinations.\n",
    "dataframe_travel = pd.read_csv(\"dataframe_travel.csv\")\n",
    "dataframe_travel[\"All inclusive hotels\"].mean()"
   ]
  },
  {
   "cell_type": "code",
   "execution_count": 49,
   "metadata": {},
   "outputs": [
    {
     "data": {
      "text/plain": [
       "8"
      ]
     },
     "execution_count": 49,
     "metadata": {},
     "output_type": "execute_result"
    }
   ],
   "source": [
    "#Find the lowest scoring destination.\n",
    "dataframe_travel = pd.read_csv(\"dataframe_travel.csv\")\n",
    "dataframe_travel[\"All inclusive hotels\"].min()"
   ]
  },
  {
   "cell_type": "code",
   "execution_count": 50,
   "metadata": {},
   "outputs": [
    {
     "data": {
      "text/plain": [
       "30"
      ]
     },
     "execution_count": 50,
     "metadata": {},
     "output_type": "execute_result"
    }
   ],
   "source": [
    "#Find the highest scoring destination.\n",
    "dataframe_travel = pd.read_csv(\"dataframe_travel.csv\")\n",
    "dataframe_travel[\"All inclusive hotels\"].max()"
   ]
  },
  {
   "cell_type": "code",
   "execution_count": 51,
   "metadata": {},
   "outputs": [
    {
     "data": {
      "text/html": [
       "<div>\n",
       "<style scoped>\n",
       "    .dataframe tbody tr th:only-of-type {\n",
       "        vertical-align: middle;\n",
       "    }\n",
       "\n",
       "    .dataframe tbody tr th {\n",
       "        vertical-align: top;\n",
       "    }\n",
       "\n",
       "    .dataframe thead th {\n",
       "        text-align: right;\n",
       "    }\n",
       "</style>\n",
       "<table border=\"1\" class=\"dataframe\">\n",
       "  <thead>\n",
       "    <tr style=\"text-align: right;\">\n",
       "      <th></th>\n",
       "      <th>Unnamed: 0</th>\n",
       "      <th>Places</th>\n",
       "      <th>Score</th>\n",
       "      <th>Avg hotel star rating</th>\n",
       "      <th>All inclusive hotels</th>\n",
       "      <th>Most visited city in each destination</th>\n",
       "    </tr>\n",
       "  </thead>\n",
       "  <tbody>\n",
       "    <tr>\n",
       "      <th>0</th>\n",
       "      <td>1</td>\n",
       "      <td>Vietnam</td>\n",
       "      <td>10</td>\n",
       "      <td>5</td>\n",
       "      <td>20</td>\n",
       "      <td>Ho Chi Minh</td>\n",
       "    </tr>\n",
       "    <tr>\n",
       "      <th>1</th>\n",
       "      <td>2</td>\n",
       "      <td>Argentina</td>\n",
       "      <td>10</td>\n",
       "      <td>3</td>\n",
       "      <td>30</td>\n",
       "      <td>Buenos Aires</td>\n",
       "    </tr>\n",
       "    <tr>\n",
       "      <th>2</th>\n",
       "      <td>3</td>\n",
       "      <td>New Zeland</td>\n",
       "      <td>7</td>\n",
       "      <td>5</td>\n",
       "      <td>20</td>\n",
       "      <td>Auckland</td>\n",
       "    </tr>\n",
       "    <tr>\n",
       "      <th>3</th>\n",
       "      <td>4</td>\n",
       "      <td>Japan</td>\n",
       "      <td>8</td>\n",
       "      <td>5</td>\n",
       "      <td>18</td>\n",
       "      <td>Tokyo</td>\n",
       "    </tr>\n",
       "    <tr>\n",
       "      <th>4</th>\n",
       "      <td>5</td>\n",
       "      <td>Madagascar</td>\n",
       "      <td>6</td>\n",
       "      <td>4</td>\n",
       "      <td>18</td>\n",
       "      <td>Antananarivo</td>\n",
       "    </tr>\n",
       "    <tr>\n",
       "      <th>6</th>\n",
       "      <td>7</td>\n",
       "      <td>Brazil</td>\n",
       "      <td>9</td>\n",
       "      <td>3</td>\n",
       "      <td>30</td>\n",
       "      <td>Rio de Janeiro</td>\n",
       "    </tr>\n",
       "    <tr>\n",
       "      <th>7</th>\n",
       "      <td>8</td>\n",
       "      <td>Egypt</td>\n",
       "      <td>4</td>\n",
       "      <td>2</td>\n",
       "      <td>17</td>\n",
       "      <td>Cairo</td>\n",
       "    </tr>\n",
       "  </tbody>\n",
       "</table>\n",
       "</div>"
      ],
      "text/plain": [
       "   Unnamed: 0      Places  Score  Avg hotel star rating  All inclusive hotels  \\\n",
       "0           1     Vietnam     10                      5                    20   \n",
       "1           2   Argentina     10                      3                    30   \n",
       "2           3  New Zeland      7                      5                    20   \n",
       "3           4       Japan      8                      5                    18   \n",
       "4           5  Madagascar      6                      4                    18   \n",
       "6           7      Brazil      9                      3                    30   \n",
       "7           8       Egypt      4                      2                    17   \n",
       "\n",
       "  Most visited city in each destination  \n",
       "0                           Ho Chi Minh  \n",
       "1                          Buenos Aires  \n",
       "2                              Auckland  \n",
       "3                                 Tokyo  \n",
       "4                          Antananarivo  \n",
       "6                        Rio de Janeiro  \n",
       "7                                 Cairo  "
      ]
     },
     "execution_count": 51,
     "metadata": {},
     "output_type": "execute_result"
    }
   ],
   "source": [
    "#Find all the destinations where there are more than 9 all-inclusive hotels. \n",
    "#dataframe_travel = pd.read_csv(\"dataframe_travel.csv\")\n",
    "\n",
    "myfilter = dataframe_travel[\"All inclusive hotels\"]>15\n",
    "dataframe_travel[myfilter]"
   ]
  },
  {
   "cell_type": "code",
   "execution_count": 52,
   "metadata": {},
   "outputs": [
    {
     "data": {
      "text/html": [
       "<div>\n",
       "<style scoped>\n",
       "    .dataframe tbody tr th:only-of-type {\n",
       "        vertical-align: middle;\n",
       "    }\n",
       "\n",
       "    .dataframe tbody tr th {\n",
       "        vertical-align: top;\n",
       "    }\n",
       "\n",
       "    .dataframe thead th {\n",
       "        text-align: right;\n",
       "    }\n",
       "</style>\n",
       "<table border=\"1\" class=\"dataframe\">\n",
       "  <thead>\n",
       "    <tr style=\"text-align: right;\">\n",
       "      <th></th>\n",
       "      <th>Unnamed: 0</th>\n",
       "      <th>Places</th>\n",
       "      <th>Score</th>\n",
       "      <th>Avg hotel star rating</th>\n",
       "      <th>All inclusive hotels</th>\n",
       "      <th>Most visited city in each destination</th>\n",
       "    </tr>\n",
       "  </thead>\n",
       "  <tbody>\n",
       "    <tr>\n",
       "      <th>0</th>\n",
       "      <td>1</td>\n",
       "      <td>Vietnam</td>\n",
       "      <td>10</td>\n",
       "      <td>5</td>\n",
       "      <td>20</td>\n",
       "      <td>Ho Chi Minh</td>\n",
       "    </tr>\n",
       "    <tr>\n",
       "      <th>1</th>\n",
       "      <td>2</td>\n",
       "      <td>Argentina</td>\n",
       "      <td>10</td>\n",
       "      <td>3</td>\n",
       "      <td>30</td>\n",
       "      <td>Buenos Aires</td>\n",
       "    </tr>\n",
       "    <tr>\n",
       "      <th>2</th>\n",
       "      <td>3</td>\n",
       "      <td>New Zeland</td>\n",
       "      <td>7</td>\n",
       "      <td>5</td>\n",
       "      <td>20</td>\n",
       "      <td>Auckland</td>\n",
       "    </tr>\n",
       "    <tr>\n",
       "      <th>3</th>\n",
       "      <td>4</td>\n",
       "      <td>Japan</td>\n",
       "      <td>8</td>\n",
       "      <td>5</td>\n",
       "      <td>18</td>\n",
       "      <td>Tokyo</td>\n",
       "    </tr>\n",
       "    <tr>\n",
       "      <th>4</th>\n",
       "      <td>5</td>\n",
       "      <td>Madagascar</td>\n",
       "      <td>6</td>\n",
       "      <td>4</td>\n",
       "      <td>18</td>\n",
       "      <td>Antananarivo</td>\n",
       "    </tr>\n",
       "    <tr>\n",
       "      <th>5</th>\n",
       "      <td>6</td>\n",
       "      <td>Colombia</td>\n",
       "      <td>5</td>\n",
       "      <td>3</td>\n",
       "      <td>15</td>\n",
       "      <td>Bogota</td>\n",
       "    </tr>\n",
       "    <tr>\n",
       "      <th>6</th>\n",
       "      <td>7</td>\n",
       "      <td>Brazil</td>\n",
       "      <td>9</td>\n",
       "      <td>3</td>\n",
       "      <td>30</td>\n",
       "      <td>Rio de Janeiro</td>\n",
       "    </tr>\n",
       "    <tr>\n",
       "      <th>7</th>\n",
       "      <td>8</td>\n",
       "      <td>Egypt</td>\n",
       "      <td>4</td>\n",
       "      <td>2</td>\n",
       "      <td>17</td>\n",
       "      <td>Cairo</td>\n",
       "    </tr>\n",
       "    <tr>\n",
       "      <th>8</th>\n",
       "      <td>9</td>\n",
       "      <td>Peru</td>\n",
       "      <td>7</td>\n",
       "      <td>2</td>\n",
       "      <td>10</td>\n",
       "      <td>Lima</td>\n",
       "    </tr>\n",
       "    <tr>\n",
       "      <th>10</th>\n",
       "      <td>11</td>\n",
       "      <td>Turkey</td>\n",
       "      <td>7</td>\n",
       "      <td>3</td>\n",
       "      <td>13</td>\n",
       "      <td>Istanbul</td>\n",
       "    </tr>\n",
       "    <tr>\n",
       "      <th>11</th>\n",
       "      <td>12</td>\n",
       "      <td>Marroco</td>\n",
       "      <td>3</td>\n",
       "      <td>2</td>\n",
       "      <td>10</td>\n",
       "      <td>Marrakesh</td>\n",
       "    </tr>\n",
       "    <tr>\n",
       "      <th>12</th>\n",
       "      <td>13</td>\n",
       "      <td>Poland</td>\n",
       "      <td>2</td>\n",
       "      <td>2</td>\n",
       "      <td>11</td>\n",
       "      <td>Warsaw</td>\n",
       "    </tr>\n",
       "    <tr>\n",
       "      <th>13</th>\n",
       "      <td>14</td>\n",
       "      <td>Argelia</td>\n",
       "      <td>2</td>\n",
       "      <td>2</td>\n",
       "      <td>12</td>\n",
       "      <td>Algiers</td>\n",
       "    </tr>\n",
       "    <tr>\n",
       "      <th>14</th>\n",
       "      <td>15</td>\n",
       "      <td>Hungary</td>\n",
       "      <td>8</td>\n",
       "      <td>4</td>\n",
       "      <td>9</td>\n",
       "      <td>Budapest</td>\n",
       "    </tr>\n",
       "  </tbody>\n",
       "</table>\n",
       "</div>"
      ],
      "text/plain": [
       "    Unnamed: 0      Places  Score  Avg hotel star rating  \\\n",
       "0            1     Vietnam     10                      5   \n",
       "1            2   Argentina     10                      3   \n",
       "2            3  New Zeland      7                      5   \n",
       "3            4       Japan      8                      5   \n",
       "4            5  Madagascar      6                      4   \n",
       "5            6    Colombia      5                      3   \n",
       "6            7      Brazil      9                      3   \n",
       "7            8       Egypt      4                      2   \n",
       "8            9        Peru      7                      2   \n",
       "10          11      Turkey      7                      3   \n",
       "11          12     Marroco      3                      2   \n",
       "12          13      Poland      2                      2   \n",
       "13          14     Argelia      2                      2   \n",
       "14          15     Hungary      8                      4   \n",
       "\n",
       "    All inclusive hotels Most visited city in each destination  \n",
       "0                     20                           Ho Chi Minh  \n",
       "1                     30                          Buenos Aires  \n",
       "2                     20                              Auckland  \n",
       "3                     18                                 Tokyo  \n",
       "4                     18                          Antananarivo  \n",
       "5                     15                                Bogota  \n",
       "6                     30                        Rio de Janeiro  \n",
       "7                     17                                 Cairo  \n",
       "8                     10                                  Lima  \n",
       "10                    13                              Istanbul  \n",
       "11                    10                             Marrakesh  \n",
       "12                    11                                Warsaw  \n",
       "13                    12                               Algiers  \n",
       "14                     9                              Budapest  "
      ]
     },
     "execution_count": 52,
     "metadata": {},
     "output_type": "execute_result"
    }
   ],
   "source": [
    "#Filter the data by score above 8. \n",
    "\n",
    "myfilter2 = dataframe_travel[\"All inclusive hotels\"]>8\n",
    "dataframe_travel[myfilter2]"
   ]
  },
  {
   "cell_type": "code",
   "execution_count": 53,
   "metadata": {},
   "outputs": [
    {
     "data": {
      "text/html": [
       "<div>\n",
       "<style scoped>\n",
       "    .dataframe tbody tr th:only-of-type {\n",
       "        vertical-align: middle;\n",
       "    }\n",
       "\n",
       "    .dataframe tbody tr th {\n",
       "        vertical-align: top;\n",
       "    }\n",
       "\n",
       "    .dataframe thead th {\n",
       "        text-align: right;\n",
       "    }\n",
       "</style>\n",
       "<table border=\"1\" class=\"dataframe\">\n",
       "  <thead>\n",
       "    <tr style=\"text-align: right;\">\n",
       "      <th></th>\n",
       "      <th>Unnamed: 0</th>\n",
       "      <th>Places</th>\n",
       "      <th>Score</th>\n",
       "      <th>Avg hotel star rating</th>\n",
       "      <th>All inclusive hotels</th>\n",
       "      <th>Most visited city in each destination</th>\n",
       "    </tr>\n",
       "  </thead>\n",
       "  <tbody>\n",
       "  </tbody>\n",
       "</table>\n",
       "</div>"
      ],
      "text/plain": [
       "Empty DataFrame\n",
       "Columns: [Unnamed: 0, Places, Score, Avg hotel star rating, All inclusive hotels, Most visited city in each destination]\n",
       "Index: []"
      ]
     },
     "execution_count": 53,
     "metadata": {},
     "output_type": "execute_result"
    }
   ],
   "source": [
    "#8. Filter the data score below 2 ( I need to know if these destinations should be removed or there is a problem)\n",
    "myfilter3 = dataframe_travel[\"All inclusive hotels\"]<2\n",
    "dataframe_travel[myfilter3]"
   ]
  },
  {
   "cell_type": "code",
   "execution_count": null,
   "metadata": {},
   "outputs": [],
   "source": [
    "#create data\n",
    "\n",
    "inventory = {\"Places\": [\"Vietnam\", \"Argentina\", \"New Zeland\", \"Japan\", \"Madagascar\", \n",
    "                          \"Colombia\", \"Brazil\", \"Egypt\", \"Peru\", \"Thailand\", \"Turkey\", \"Morrocco\", \"Poland\", \"Argelia\", \n",
    "                          \"Hungary\"],\n",
    "            \"Score\": [10,10,7,8,6,5,9,4,7,5,7,3,2,2,8],\n",
    "            \"Avg hotel star rating\": [5,3,5,5,4,3,3,2,2,4,3,2,2,2,4],\n",
    "            \"All inclusive hotels\": [20,30,20,18,18,15,30,17,10,8,13,10,11,12,9],\n",
    "            \"Most visited city in each destination\": [\"Ho Chi Minh\", \"Buenos Aires\", \"Auckand\", \"Tokyo\", \"Antananarivo\", \n",
    "            \"Bogota\", \"Rio de Janeiro\", \"Cairo\", \"Lima\", \"Bangkok\", \"Istanbul\", \"Marrakesh\", \"Warsaw\", \"Argiers\", \"Budapest\"]}\n",
    "\n",
    "#Create variable. Remember the capitals both D & F\n",
    "myframe = pd.DataFrame(inventory)\n",
    "\n",
    "# print variable\n",
    "print(myframe)"
   ]
  }
 ],
 "metadata": {
  "interpreter": {
   "hash": "7ca6e391786843e1b84a86b64e7ea6c12ee785daa5690a7a5fae562659d7a36f"
  },
  "kernelspec": {
   "display_name": "Python 3.10.2 64-bit",
   "language": "python",
   "name": "python3"
  },
  "language_info": {
   "codemirror_mode": {
    "name": "ipython",
    "version": 3
   },
   "file_extension": ".py",
   "mimetype": "text/x-python",
   "name": "python",
   "nbconvert_exporter": "python",
   "pygments_lexer": "ipython3",
   "version": "3.10.2"
  },
  "orig_nbformat": 4
 },
 "nbformat": 4,
 "nbformat_minor": 2
}
