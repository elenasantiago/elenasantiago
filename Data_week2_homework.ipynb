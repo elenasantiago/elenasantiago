{
 "cells": [
  {
   "cell_type": "code",
   "execution_count": 1,
   "metadata": {},
   "outputs": [
    {
     "name": "stdout",
     "output_type": "stream",
     "text": [
      "What would you like to eat?\n",
      "Anything else? yes/no\n",
      "What would you like to eat?\n",
      "I'm sorry, we don't have that.\n",
      "What would you like to eat?\n",
      "Anything else? yes/no\n",
      "Okay, so you want\n",
      "fish & chips\n",
      "carrot cake\n",
      "I will get the bill for you.\n"
     ]
    }
   ],
   "source": [
    "#Create your own Flow Diagram, a subject of your own choice, Example: Fast food order and convert it into code.\n",
    "MENU = {\"fish & chips\", \"burger & chips\", \"vegetarian\", \"sparking water\", \"juice\", \"wine\" ,\n",
    "        \"carrot cake\" , \"chocolate ice cream\"}\n",
    "\n",
    "def get_order():\n",
    "    current_order = []\n",
    "    while True:\n",
    "        print(\"What would you like to eat?\")\n",
    "        order = input()\n",
    "        if order in MENU:\n",
    "            current_order.append(order)\n",
    "        else:\n",
    "            print(\"I'm sorry, we don't have that.\")\n",
    "            continue\n",
    "        if is_order_complete():\n",
    "            return current_order\n",
    "\n",
    "def is_order_complete():\n",
    "    print(\"Anything else? yes/no\")\n",
    "    choice = input()\n",
    "    if choice == \"no\":\n",
    "        return True\n",
    "    elif choice == \"yes\":\n",
    "        return False\n",
    "    else:\n",
    "        raise Exception(\"invalid input\")\n",
    "\n",
    "def output_order(order_list):\n",
    "    print(\"Okay, so you want\")\n",
    "    for order in order_list:\n",
    "        print(order)\n",
    "\n",
    "def main():\n",
    "    order = get_order()\n",
    "    output_order(order)\n",
    "    print(\"I will get the bill for you. Thanks\")\n",
    "\n",
    "\n",
    "if __name__ == \"__main__\":\n",
    "    main()"
   ]
  },
  {
   "cell_type": "code",
   "execution_count": 16,
   "metadata": {},
   "outputs": [
    {
     "name": "stdout",
     "output_type": "stream",
     "text": [
      "Yearly depreciation of motorbike value:\n",
      "Year  0 :  2000.0\n",
      "Year  1 :  1800.0\n",
      "Year  2 :  1620.0\n",
      "Year  3 :  1458.0\n",
      "Year  4 :  1312.2\n",
      "Year  5 :  1180.98\n",
      "Year  6 :  1062.882\n"
     ]
    }
   ],
   "source": [
    "#As an extension to the motorbike task that costs £2000 and loses 10% of its value every year. Set up \n",
    "#a function that performs the calculation by passing in parameters. Then using a loop, print the value of \n",
    "#the bike every following year until it falls below £1000.\n",
    "initial_cost = 2000.00\n",
    "cost = initial_cost\n",
    "year = 0\n",
    "\n",
    "print(\"Yearly depreciation of motorbike value:\")\n",
    "\n",
    "while cost >= 1000.0:\n",
    " print(\"Year \", year,  \": \", cost)\n",
    " year = year + 1\n",
    " cost = cost - (cost/10)"
   ]
  },
  {
   "cell_type": "code",
   "execution_count": 19,
   "metadata": {},
   "outputs": [
    {
     "name": "stdout",
     "output_type": "stream",
     "text": [
      "Enter which operation would you like to perform?\n",
      "2 * 2 : 4\n"
     ]
    }
   ],
   "source": [
    "#Write a program which will ask for two numbers from a user. Then offer an option menu to the user \n",
    "#giving them a choice of maths operators. Once the user has selected which operator they wish to use, \n",
    "#perform the calculation by using a procedure and passing parameters.\n",
    "\n",
    "num1 = int(input(\"Enter First Number: \"))\n",
    "num2 = int(input(\"Enter Second Number: \"))\n",
    "print(\"Enter which operation would you like to perform?\")\n",
    "ch = input(\"Enter any of these char for specific operation +,-,*,/: \")\n",
    "result = 0\n",
    "if ch == '+':\n",
    "        result = num1 + num2\n",
    "elif ch == \"-\":\n",
    "        result = num1 - num2\n",
    "elif ch == \"*\":\n",
    "        result = num1 * num2\n",
    "elif ch == '/':\n",
    "        result = num1 / num2\n",
    "else:\n",
    "    print(\"Input character is not recognized!\")\n",
    "print(num1, ch, num2, \":\", result)"
   ]
  }
 ],
 "metadata": {
  "interpreter": {
   "hash": "7ca6e391786843e1b84a86b64e7ea6c12ee785daa5690a7a5fae562659d7a36f"
  },
  "kernelspec": {
   "display_name": "Python 3.10.2 64-bit",
   "language": "python",
   "name": "python3"
  },
  "language_info": {
   "codemirror_mode": {
    "name": "ipython",
    "version": 3
   },
   "file_extension": ".py",
   "mimetype": "text/x-python",
   "name": "python",
   "nbconvert_exporter": "python",
   "pygments_lexer": "ipython3",
   "version": "3.10.2"
  },
  "orig_nbformat": 4
 },
 "nbformat": 4,
 "nbformat_minor": 2
}
