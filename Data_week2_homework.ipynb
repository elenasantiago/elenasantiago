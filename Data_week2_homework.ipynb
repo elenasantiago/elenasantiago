{
 "cells": [
  {
   "cell_type": "code",
   "execution_count": 1,
   "metadata": {},
   "outputs": [
    {
     "name": "stdout",
     "output_type": "stream",
     "text": [
      "What would you like to eat?\n",
      "Anything else? yes/no\n",
      "What would you like to eat?\n",
      "I'm sorry, we don't have that.\n",
      "What would you like to eat?\n",
      "Anything else? yes/no\n",
      "Okay, so you want\n",
      "fish & chips\n",
      "carrot cake\n",
      "I will get the bill for you.\n"
     ]
    }
   ],
   "source": [
    "#Create your own Flow Diagram, a subject of your own choice, Example: Fast food order and convert it into code.\n",
    "MENU = {\"fish & chips\", \"burger & chips\", \"vegetarian\", \"sparking water\", \"juice\", \"wine\" ,\n",
    "        \"carrot cake\" , \"chocolate ice cream\"}\n",
    "\n",
    "def get_order():\n",
    "    current_order = []\n",
    "    while True:\n",
    "        print(\"What would you like to eat?\")\n",
    "        order = input()\n",
    "        if order in MENU:\n",
    "            current_order.append(order)\n",
    "        else:\n",
    "            print(\"I'm sorry, we don't have that.\")\n",
    "            continue\n",
    "        if is_order_complete():\n",
    "            return current_order\n",
    "\n",
    "def is_order_complete():\n",
    "    print(\"Anything else? yes/no\")\n",
    "    choice = input()\n",
    "    if choice == \"no\":\n",
    "        return True\n",
    "    elif choice == \"yes\":\n",
    "        return False\n",
    "    else:\n",
    "        raise Exception(\"invalid input\")\n",
    "\n",
    "def output_order(order_list):\n",
    "    print(\"Okay, so you want\")\n",
    "    for order in order_list:\n",
    "        print(order)\n",
    "\n",
    "def main():\n",
    "    order = get_order()\n",
    "    output_order(order)\n",
    "    print(\"I will get the bill for you. Thanks\")\n",
    "\n",
    "\n",
    "if __name__ == \"__main__\":\n",
    "    main()"
   ]
  },
  {
   "cell_type": "code",
   "execution_count": 5,
   "metadata": {},
   "outputs": [
    {
     "ename": "KeyboardInterrupt",
     "evalue": "Interrupted by user",
     "output_type": "error",
     "traceback": [
      "\u001b[1;31m---------------------------------------------------------------------------\u001b[0m",
      "\u001b[1;31mKeyboardInterrupt\u001b[0m                         Traceback (most recent call last)",
      "\u001b[1;32mc:\\Users\\santi\\OneDrive\\Desktop\\Elena\\AWS\\Data Analyst\\TechTalent - Data\\Week 1&2 - Python\\Data_week2_homework.ipynb Cell 2'\u001b[0m in \u001b[0;36m<module>\u001b[1;34m\u001b[0m\n\u001b[1;32m----> <a href='vscode-notebook-cell:/c%3A/Users/santi/OneDrive/Desktop/Elena/AWS/Data%20Analyst/TechTalent%20-%20Data/Week%201%262%20-%20Python/Data_week2_homework.ipynb#ch0000003?line=0'>1</a>\u001b[0m calc()\n",
      "\u001b[1;32mc:\\Users\\santi\\OneDrive\\Desktop\\Elena\\AWS\\Data Analyst\\TechTalent - Data\\Week 1&2 - Python\\Data_week2_homework.ipynb Cell 4'\u001b[0m in \u001b[0;36mcalc\u001b[1;34m()\u001b[0m\n\u001b[0;32m      <a href='vscode-notebook-cell:/c%3A/Users/santi/OneDrive/Desktop/Elena/AWS/Data%20Analyst/TechTalent%20-%20Data/Week%201%262%20-%20Python/Data_week2_homework.ipynb#ch0000002?line=4'>5</a>\u001b[0m \u001b[39mdef\u001b[39;00m \u001b[39mcalc\u001b[39m ():\n\u001b[1;32m----> <a href='vscode-notebook-cell:/c%3A/Users/santi/OneDrive/Desktop/Elena/AWS/Data%20Analyst/TechTalent%20-%20Data/Week%201%262%20-%20Python/Data_week2_homework.ipynb#ch0000002?line=5'>6</a>\u001b[0m         num1 \u001b[39m=\u001b[39m \u001b[39mint\u001b[39m(\u001b[39minput\u001b[39;49m(\u001b[39m\"\u001b[39;49m\u001b[39mEnter First Number: \u001b[39;49m\u001b[39m\"\u001b[39;49m))\n\u001b[0;32m      <a href='vscode-notebook-cell:/c%3A/Users/santi/OneDrive/Desktop/Elena/AWS/Data%20Analyst/TechTalent%20-%20Data/Week%201%262%20-%20Python/Data_week2_homework.ipynb#ch0000002?line=6'>7</a>\u001b[0m         num2 \u001b[39m=\u001b[39m \u001b[39mint\u001b[39m(\u001b[39minput\u001b[39m(\u001b[39m\"\u001b[39m\u001b[39mEnter Second Number: \u001b[39m\u001b[39m\"\u001b[39m))\n\u001b[0;32m      <a href='vscode-notebook-cell:/c%3A/Users/santi/OneDrive/Desktop/Elena/AWS/Data%20Analyst/TechTalent%20-%20Data/Week%201%262%20-%20Python/Data_week2_homework.ipynb#ch0000002?line=7'>8</a>\u001b[0m         \u001b[39mprint\u001b[39m(\u001b[39m\"\u001b[39m\u001b[39mEnter which operation would you like to perform?\u001b[39m\u001b[39m\"\u001b[39m)\n",
      "File \u001b[1;32m~\\AppData\\Local\\Programs\\Python\\Python310\\lib\\site-packages\\ipykernel\\kernelbase.py:1044\u001b[0m, in \u001b[0;36mKernel.raw_input\u001b[1;34m(self, prompt)\u001b[0m\n\u001b[0;32m   <a href='file:///~/AppData/Local/Programs/Python/Python310/lib/site-packages/ipykernel/kernelbase.py?line=1039'>1040</a>\u001b[0m \u001b[39mif\u001b[39;00m \u001b[39mnot\u001b[39;00m \u001b[39mself\u001b[39m\u001b[39m.\u001b[39m_allow_stdin:\n\u001b[0;32m   <a href='file:///~/AppData/Local/Programs/Python/Python310/lib/site-packages/ipykernel/kernelbase.py?line=1040'>1041</a>\u001b[0m     \u001b[39mraise\u001b[39;00m StdinNotImplementedError(\n\u001b[0;32m   <a href='file:///~/AppData/Local/Programs/Python/Python310/lib/site-packages/ipykernel/kernelbase.py?line=1041'>1042</a>\u001b[0m         \u001b[39m\"\u001b[39m\u001b[39mraw_input was called, but this frontend does not support input requests.\u001b[39m\u001b[39m\"\u001b[39m\n\u001b[0;32m   <a href='file:///~/AppData/Local/Programs/Python/Python310/lib/site-packages/ipykernel/kernelbase.py?line=1042'>1043</a>\u001b[0m     )\n\u001b[1;32m-> <a href='file:///~/AppData/Local/Programs/Python/Python310/lib/site-packages/ipykernel/kernelbase.py?line=1043'>1044</a>\u001b[0m \u001b[39mreturn\u001b[39;00m \u001b[39mself\u001b[39;49m\u001b[39m.\u001b[39;49m_input_request(\n\u001b[0;32m   <a href='file:///~/AppData/Local/Programs/Python/Python310/lib/site-packages/ipykernel/kernelbase.py?line=1044'>1045</a>\u001b[0m     \u001b[39mstr\u001b[39;49m(prompt),\n\u001b[0;32m   <a href='file:///~/AppData/Local/Programs/Python/Python310/lib/site-packages/ipykernel/kernelbase.py?line=1045'>1046</a>\u001b[0m     \u001b[39mself\u001b[39;49m\u001b[39m.\u001b[39;49m_parent_ident[\u001b[39m\"\u001b[39;49m\u001b[39mshell\u001b[39;49m\u001b[39m\"\u001b[39;49m],\n\u001b[0;32m   <a href='file:///~/AppData/Local/Programs/Python/Python310/lib/site-packages/ipykernel/kernelbase.py?line=1046'>1047</a>\u001b[0m     \u001b[39mself\u001b[39;49m\u001b[39m.\u001b[39;49mget_parent(\u001b[39m\"\u001b[39;49m\u001b[39mshell\u001b[39;49m\u001b[39m\"\u001b[39;49m),\n\u001b[0;32m   <a href='file:///~/AppData/Local/Programs/Python/Python310/lib/site-packages/ipykernel/kernelbase.py?line=1047'>1048</a>\u001b[0m     password\u001b[39m=\u001b[39;49m\u001b[39mFalse\u001b[39;49;00m,\n\u001b[0;32m   <a href='file:///~/AppData/Local/Programs/Python/Python310/lib/site-packages/ipykernel/kernelbase.py?line=1048'>1049</a>\u001b[0m )\n",
      "File \u001b[1;32m~\\AppData\\Local\\Programs\\Python\\Python310\\lib\\site-packages\\ipykernel\\kernelbase.py:1089\u001b[0m, in \u001b[0;36mKernel._input_request\u001b[1;34m(self, prompt, ident, parent, password)\u001b[0m\n\u001b[0;32m   <a href='file:///~/AppData/Local/Programs/Python/Python310/lib/site-packages/ipykernel/kernelbase.py?line=1085'>1086</a>\u001b[0m             \u001b[39mbreak\u001b[39;00m\n\u001b[0;32m   <a href='file:///~/AppData/Local/Programs/Python/Python310/lib/site-packages/ipykernel/kernelbase.py?line=1086'>1087</a>\u001b[0m \u001b[39mexcept\u001b[39;00m \u001b[39mKeyboardInterrupt\u001b[39;00m:\n\u001b[0;32m   <a href='file:///~/AppData/Local/Programs/Python/Python310/lib/site-packages/ipykernel/kernelbase.py?line=1087'>1088</a>\u001b[0m     \u001b[39m# re-raise KeyboardInterrupt, to truncate traceback\u001b[39;00m\n\u001b[1;32m-> <a href='file:///~/AppData/Local/Programs/Python/Python310/lib/site-packages/ipykernel/kernelbase.py?line=1088'>1089</a>\u001b[0m     \u001b[39mraise\u001b[39;00m \u001b[39mKeyboardInterrupt\u001b[39;00m(\u001b[39m\"\u001b[39m\u001b[39mInterrupted by user\u001b[39m\u001b[39m\"\u001b[39m) \u001b[39mfrom\u001b[39;00m \u001b[39mNone\u001b[39m\n\u001b[0;32m   <a href='file:///~/AppData/Local/Programs/Python/Python310/lib/site-packages/ipykernel/kernelbase.py?line=1089'>1090</a>\u001b[0m \u001b[39mexcept\u001b[39;00m \u001b[39mException\u001b[39;00m:\n\u001b[0;32m   <a href='file:///~/AppData/Local/Programs/Python/Python310/lib/site-packages/ipykernel/kernelbase.py?line=1090'>1091</a>\u001b[0m     \u001b[39mself\u001b[39m\u001b[39m.\u001b[39mlog\u001b[39m.\u001b[39mwarning(\u001b[39m\"\u001b[39m\u001b[39mInvalid Message:\u001b[39m\u001b[39m\"\u001b[39m, exc_info\u001b[39m=\u001b[39m\u001b[39mTrue\u001b[39;00m)\n",
      "\u001b[1;31mKeyboardInterrupt\u001b[0m: Interrupted by user"
     ]
    }
   ],
   "source": [
    "calc()"
   ]
  },
  {
   "cell_type": "code",
   "execution_count": 6,
   "metadata": {},
   "outputs": [
    {
     "name": "stdout",
     "output_type": "stream",
     "text": [
      "Yearly depreciation of motorbike value:\n",
      "Year  0 :  2000.0\n",
      "Year  1 :  1800.0\n",
      "Year  2 :  1620.0\n",
      "Year  3 :  1458.0\n",
      "Year  4 :  1312.2\n",
      "Year  5 :  1180.98\n",
      "Year  6 :  1062.882\n"
     ]
    }
   ],
   "source": [
    "#As an extension to the motorbike task that costs £2000 and loses 10% of its value every year. Set up \n",
    "#a function that performs the calculation by passing in parameters. Then using a loop, print the value of \n",
    "#the bike every following year until it falls below £1000.\n",
    "initial_cost = 2000.00\n",
    "cost = initial_cost\n",
    "year = 0\n",
    "\n",
    "print(\"Yearly depreciation of motorbike value:\")\n",
    "\n",
    "while cost >= 1000.0:\n",
    " print(\"Year \", year,  \": \", cost)\n",
    " year = year + 1\n",
    " cost = cost - (cost/10)"
   ]
  },
  {
   "cell_type": "code",
   "execution_count": 7,
   "metadata": {},
   "outputs": [
    {
     "ename": "ValueError",
     "evalue": "invalid literal for int() with base 10: ''",
     "output_type": "error",
     "traceback": [
      "\u001b[1;31m---------------------------------------------------------------------------\u001b[0m",
      "\u001b[1;31mValueError\u001b[0m                                Traceback (most recent call last)",
      "\u001b[1;32mc:\\Users\\santi\\OneDrive\\Desktop\\Elena\\AWS\\Data Analyst\\TechTalent - Data\\Week 1&2 - Python\\Data_week2_homework.ipynb Cell 4'\u001b[0m in \u001b[0;36m<module>\u001b[1;34m\u001b[0m\n\u001b[0;32m     <a href='vscode-notebook-cell:/c%3A/Users/santi/OneDrive/Desktop/Elena/AWS/Data%20Analyst/TechTalent%20-%20Data/Week%201%262%20-%20Python/Data_week2_homework.ipynb#ch0000002?line=19'>20</a>\u001b[0m                 \u001b[39mprint\u001b[39m(\u001b[39m\"\u001b[39m\u001b[39mInput character is not recognized!\u001b[39m\u001b[39m\"\u001b[39m)\n\u001b[0;32m     <a href='vscode-notebook-cell:/c%3A/Users/santi/OneDrive/Desktop/Elena/AWS/Data%20Analyst/TechTalent%20-%20Data/Week%201%262%20-%20Python/Data_week2_homework.ipynb#ch0000002?line=20'>21</a>\u001b[0m         \u001b[39mprint\u001b[39m(num1, ch, num2, \u001b[39m\"\u001b[39m\u001b[39m:\u001b[39m\u001b[39m\"\u001b[39m, result)\n\u001b[1;32m---> <a href='vscode-notebook-cell:/c%3A/Users/santi/OneDrive/Desktop/Elena/AWS/Data%20Analyst/TechTalent%20-%20Data/Week%201%262%20-%20Python/Data_week2_homework.ipynb#ch0000002?line=21'>22</a>\u001b[0m calc()\n",
      "\u001b[1;32mc:\\Users\\santi\\OneDrive\\Desktop\\Elena\\AWS\\Data Analyst\\TechTalent - Data\\Week 1&2 - Python\\Data_week2_homework.ipynb Cell 4'\u001b[0m in \u001b[0;36mcalc\u001b[1;34m()\u001b[0m\n\u001b[0;32m      <a href='vscode-notebook-cell:/c%3A/Users/santi/OneDrive/Desktop/Elena/AWS/Data%20Analyst/TechTalent%20-%20Data/Week%201%262%20-%20Python/Data_week2_homework.ipynb#ch0000002?line=4'>5</a>\u001b[0m \u001b[39mdef\u001b[39;00m \u001b[39mcalc\u001b[39m ():\n\u001b[1;32m----> <a href='vscode-notebook-cell:/c%3A/Users/santi/OneDrive/Desktop/Elena/AWS/Data%20Analyst/TechTalent%20-%20Data/Week%201%262%20-%20Python/Data_week2_homework.ipynb#ch0000002?line=5'>6</a>\u001b[0m         num1 \u001b[39m=\u001b[39m \u001b[39mint\u001b[39;49m(\u001b[39minput\u001b[39;49m(\u001b[39m\"\u001b[39;49m\u001b[39mEnter First Number: \u001b[39;49m\u001b[39m\"\u001b[39;49m))\n\u001b[0;32m      <a href='vscode-notebook-cell:/c%3A/Users/santi/OneDrive/Desktop/Elena/AWS/Data%20Analyst/TechTalent%20-%20Data/Week%201%262%20-%20Python/Data_week2_homework.ipynb#ch0000002?line=6'>7</a>\u001b[0m         num2 \u001b[39m=\u001b[39m \u001b[39mint\u001b[39m(\u001b[39minput\u001b[39m(\u001b[39m\"\u001b[39m\u001b[39mEnter Second Number: \u001b[39m\u001b[39m\"\u001b[39m))\n\u001b[0;32m      <a href='vscode-notebook-cell:/c%3A/Users/santi/OneDrive/Desktop/Elena/AWS/Data%20Analyst/TechTalent%20-%20Data/Week%201%262%20-%20Python/Data_week2_homework.ipynb#ch0000002?line=7'>8</a>\u001b[0m         \u001b[39mprint\u001b[39m(\u001b[39m\"\u001b[39m\u001b[39mEnter which operation would you like to perform?\u001b[39m\u001b[39m\"\u001b[39m)\n",
      "\u001b[1;31mValueError\u001b[0m: invalid literal for int() with base 10: ''"
     ]
    }
   ],
   "source": [
    "#Write a program which will ask for two numbers from a user. Then offer an option menu to the user \n",
    "#giving them a choice of maths operators. Once the user has selected which operator they wish to use, \n",
    "#perform the calculation by using a procedure and passing parameters.\n",
    "\n",
    "def calc ():\n",
    "        num1 = int(input(\"Enter First Number: \"))\n",
    "        num2 = int(input(\"Enter Second Number: \"))\n",
    "        print(\"Enter which operation would you like to perform?\")\n",
    "        ch = input(\"Enter any of these char for specific operation +,-,*,/: \")\n",
    "        result = 0\n",
    "        if ch == '+':\n",
    "                result = num1 + num2\n",
    "        elif ch == \"-\":\n",
    "                result = num1 - num2\n",
    "        elif ch == \"*\":\n",
    "                result = num1 * num2\n",
    "        elif ch == '/':\n",
    "                result = num1 / num2\n",
    "        else:\n",
    "                print(\"Input character is not recognized!\")\n",
    "        print(num1, ch, num2, \":\", result)\n",
    "calc()"
   ]
  }
 ],
 "metadata": {
  "interpreter": {
   "hash": "7ca6e391786843e1b84a86b64e7ea6c12ee785daa5690a7a5fae562659d7a36f"
  },
  "kernelspec": {
   "display_name": "Python 3.10.2 64-bit",
   "language": "python",
   "name": "python3"
  },
  "language_info": {
   "codemirror_mode": {
    "name": "ipython",
    "version": 3
   },
   "file_extension": ".py",
   "mimetype": "text/x-python",
   "name": "python",
   "nbconvert_exporter": "python",
   "pygments_lexer": "ipython3",
   "version": "3.10.2"
  },
  "orig_nbformat": 4
 },
 "nbformat": 4,
 "nbformat_minor": 2
}
